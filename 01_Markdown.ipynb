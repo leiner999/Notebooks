{
 "cells": [
  {
   "cell_type": "markdown",
   "id": "6fd6f6eb",
   "metadata": {},
   "source": [
    "# Uso de Markdown"
   ]
  },
  {
   "cell_type": "markdown",
   "id": "de1560e0",
   "metadata": {},
   "source": [
    "# Título 1\n",
    "\n",
    "Todos los titulos empiezan con signo ```#```\n",
    "\n",
    "## Título 2\n",
    "### Título 3\n",
    "#### Título 4\n",
    "##### Título 5"
   ]
  },
  {
   "cell_type": "markdown",
   "id": "869f9783",
   "metadata": {},
   "source": [
    "# blockquote\n",
    "\n",
    "Los _blockquotes_ se hacen con el signo ```>```\n",
    "> # título del blockquote\n",
    "> Este es el párrafo del blockquote\n",
    ">\n",
    ">> Este es un blockquote anidado\n",
    ">> Tenemos má texto\n",
    ">\n",
    "> ## segunda parte\n",
    "> Más texto"
   ]
  },
  {
   "cell_type": "markdown",
   "id": "20712048",
   "metadata": {},
   "source": [
    "# Énfasis \n",
    "\n",
    "Se pueden poner **negrillas** con el doble carácter ```*``` o un ```__```\n",
    "Se pueden poner *italicas* con un solo carácter ```*``` o un ```_```\n",
    "Se puede hacer ~~tachado~~ urilizando doble virgulilla ```~~```"
   ]
  },
  {
   "cell_type": "markdown",
   "id": "9c8dd2a0",
   "metadata": {},
   "source": [
    "# Listas\n",
    "\n",
    "## Ordenadas\n",
    "\n",
    "1. Colores\n",
    "  1. Rojo\n",
    "  2. Azul\n",
    "  3. Verde\n",
    "2. Sabores\n",
    "  1. Salado\n",
    "  2. Dulce\n",
    "  \n",
    "## No ordenadas\n",
    "\n",
    "\n",
    "* Animmales\n",
    "  - Perro\n",
    "  - Gato\n",
    "  - Caiman\n",
    "* Frutas\n",
    "  - Citricos\n",
    "    + Limon\n",
    "    + Naranja\n",
    "    + Toronja\n",
    "  - Manzana\n",
    "  - Pera"
   ]
  },
  {
   "cell_type": "markdown",
   "id": "3f731272",
   "metadata": {},
   "source": [
    "# Enlaces\n",
    "\n",
    "un enlace siempre tiene la forma ```[Nombre](url)\"tooltip\"```\n",
    "\n",
    "### Libros\n",
    "* [Git Book](https://git-scm.com/book/en/v2)\"Libro Oficial de Git\""
   ]
  },
  {
   "cell_type": "markdown",
   "id": "d2e2c2e3",
   "metadata": {},
   "source": [
    "# Imágenes \n",
    "\n",
    "Las imágenes tienen la forma ```![Nombre](url)```\n",
    "\n",
    "![Jupyter](https://cdn.icon-icons.com/icons2/2699/PNG/512/jupyter_logo_icon_169453.png)"
   ]
  },
  {
   "cell_type": "markdown",
   "id": "95258e52",
   "metadata": {},
   "source": [
    "# Código\n",
    "\n",
    "Utilizar 4 espacios:\n",
    "    frutas = ['pera', 'manzana', 'piña']\n",
    "    for fruta in frutas:\n",
    "        print(fruta)\n",
    "        \n",
    "En un bloque de código, los TAGS HTML no tiene efecto:\n",
    "\n",
    "    <html>\n",
    "      <head>\n",
    "        <tittle>No pasa nada</tittle>\n",
    "      </head>\n",
    "      <body>\n",
    "      </body>\n",
    "    </html>\n",
    "  \n",
    "También se crea un bloque de código con triple comilla invertida, y le indico el lenguaje:\n",
    "\n",
    "```python\n",
    "frutas = ['pera', 'manzana', 'piña']\n",
    "for fruta in frutas\n",
    "    print(fruta)\n",
    "```\n",
    "\n",
    "Otro ejemplo:\n",
    "```html\n",
    "<html>\n",
    "  <head>\n",
    "    <tittle>No pasa nada</tittle>\n",
    "  </head>\n",
    "  <body>\n",
    "  </body>\n",
    "</html>\n",
    "```"
   ]
  },
  {
   "cell_type": "markdown",
   "id": "1038527d",
   "metadata": {},
   "source": [
    "# Tablas\n",
    "\n",
    "|Cedula|Nombre|Ciudad|\n",
    "|------|------|------|\n",
    "|39494423|Juan|Cali|\n",
    "|1101894333|Angie|Cartago|\n",
    "|1014888234|Pedro|Bogota|"
   ]
  },
  {
   "cell_type": "markdown",
   "id": "05d628c2",
   "metadata": {},
   "source": [
    "# Comandos"
   ]
  },
  {
   "cell_type": "code",
   "execution_count": null,
   "id": "9270e7f4",
   "metadata": {},
   "outputs": [],
   "source": [
    "%ls -l\n"
   ]
  }
 ],
 "metadata": {
  "kernelspec": {
   "display_name": "Python 3",
   "language": "python",
   "name": "python3"
  },
  "language_info": {
   "codemirror_mode": {
    "name": "ipython",
    "version": 3
   },
   "file_extension": ".py",
   "mimetype": "text/x-python",
   "name": "python",
   "nbconvert_exporter": "python",
   "pygments_lexer": "ipython3",
   "version": "3.8.8"
  }
 },
 "nbformat": 4,
 "nbformat_minor": 5
}
