{
 "cells": [
  {
   "cell_type": "markdown",
   "metadata": {},
   "source": [
    "# Análisis numérico con Python\n",
    "\n",
    "Diego Fernando Marin"
   ]
  },
  {
   "cell_type": "markdown",
   "metadata": {},
   "source": [
    "# Numpy\n",
    "\n",
    "[NumPy](https://numpy.org/) proporciona una forma eficiente de manipular arreglos multi-dimensionales en Python. Sus características más importantes son:\n",
    "- Ofrece la estructura ``ndarray``, que permite trabajar con vectores, matrices y arreglos multi-dimensionales en forma eficiente (memoria y procesamiento)\n",
    "- Provee una sintaxis legible y eficiente para trabajar con dichos datos, desde operadores aritméticos básicos que operan a nivel del elemento, hasta operaciones algebraicas complejas.\n",
    "- A diferencia de las listas, los elementos en un arreglo de Numpy deben tener todos el mismo tipo."
   ]
  },
  {
   "cell_type": "code",
   "execution_count": 5,
   "metadata": {},
   "outputs": [
    {
     "data": {
      "text/plain": [
       "'1.20.1'"
      ]
     },
     "execution_count": 5,
     "metadata": {},
     "output_type": "execute_result"
    }
   ],
   "source": [
    "# la forma convencional de importan la librería/Modulo Numpy\n",
    "import numpy as np\n",
    "np.__version__"
   ]
  },
  {
   "cell_type": "markdown",
   "metadata": {},
   "source": [
    "En su uso más básico, los arreglos Numpy se parecen mucho a las listas. Por ejemplo, compare la creación de este arreglo con los números del 1 al 20, con su lista equivalente."
   ]
  },
  {
   "cell_type": "code",
   "execution_count": 2,
   "metadata": {},
   "outputs": [
    {
     "name": "stdout",
     "output_type": "stream",
     "text": [
      "[1, 2, 3, 4, 5, 6, 7, 8, 9, 10, 11, 12, 13, 14, 15, 16, 17, 18, 19, 20]\n"
     ]
    }
   ],
   "source": [
    "# Listas básicas de Python\n",
    "lista = list(range(1, 21))\n",
    "print(lista)"
   ]
  },
  {
   "cell_type": "code",
   "execution_count": 4,
   "metadata": {},
   "outputs": [
    {
     "name": "stdout",
     "output_type": "stream",
     "text": [
      "<class 'numpy.ndarray'> [ 1  2  3  4  5  6  7  8  9 10 11 12 13 14 15 16 17 18 19 20]\n"
     ]
    }
   ],
   "source": [
    "# Arreglo (o Vector) de Numpy\n",
    "arreglo = np.arange(1, 21)\n",
    "print(type(arreglo), arreglo)"
   ]
  },
  {
   "cell_type": "markdown",
   "metadata": {},
   "source": [
    "Pero la sintaxis de Numpy para manipular los datos en un arreglo es más elegante que el lenguaje Python básico.\n",
    "\n",
    "Por ejemplo, para crear una lista con todos los números de otra lista elevados al cuadrado:"
   ]
  },
  {
   "cell_type": "code",
   "execution_count": 5,
   "metadata": {},
   "outputs": [
    {
     "name": "stdout",
     "output_type": "stream",
     "text": [
      "[1, 4, 9, 16, 25, 36, 49, 64, 81, 100, 121, 144, 169, 196, 225, 256, 289, 324, 361, 400]\n"
     ]
    }
   ],
   "source": [
    "# Usando List-comprehension\n",
    "lista2 = [ numero**2 for numero in lista ]\n",
    "print(lista2)"
   ]
  },
  {
   "cell_type": "code",
   "execution_count": 6,
   "metadata": {},
   "outputs": [
    {
     "name": "stdout",
     "output_type": "stream",
     "text": [
      "[  1   4   9  16  25  36  49  64  81 100 121 144 169 196 225 256 289 324\n",
      " 361 400]\n"
     ]
    }
   ],
   "source": [
    "# Los operados de Numpy se aplican a cada elemento del arreglo\n",
    "arreglo2 = arreglo ** 2\n",
    "print(arreglo2)"
   ]
  },
  {
   "cell_type": "code",
   "execution_count": 7,
   "metadata": {},
   "outputs": [
    {
     "name": "stdout",
     "output_type": "stream",
     "text": [
      "[[ 1  2  3  4  5]\n",
      " [ 6  7  8  9 10]\n",
      " [11 12 13 14 15]\n",
      " [16 17 18 19 20]]\n"
     ]
    }
   ],
   "source": [
    "# Las listas están limitadas de una dimensión, los arreglos de Numpy pueden ser multi-dimensionales:\n",
    "matriz = arreglo.reshape(4,5)\n",
    "print(matriz)"
   ]
  },
  {
   "cell_type": "code",
   "execution_count": 9,
   "metadata": {},
   "outputs": [
    {
     "name": "stdout",
     "output_type": "stream",
     "text": [
      "[ 5.     3.14   8.    -2.     6.626  4.     1.     0.5    9.   ]\n"
     ]
    }
   ],
   "source": [
    "# Todos los elementos de un arreglo deben ser del mismo tipo\n",
    "reales = np.array([5, 3.14, 8, -2, 6.626, 4, 1, 0.5, 9])\n",
    "print(reales)"
   ]
  },
  {
   "cell_type": "code",
   "execution_count": 10,
   "metadata": {},
   "outputs": [
    {
     "name": "stdout",
     "output_type": "stream",
     "text": [
      "[[ 3  6  9]\n",
      " [ 7 10 13]\n",
      " [11 14 17]\n",
      " [15 18 21]\n",
      " [19 22 25]]\n"
     ]
    }
   ],
   "source": [
    "# Es posible crear arreglos usando list-comprehension\n",
    "m2 = np.array( [ range(i, i + 7, 3) for i in [3, 7, 11, 15, 19] ] )\n",
    "print(m2)"
   ]
  },
  {
   "cell_type": "markdown",
   "metadata": {},
   "source": [
    "Numpy ofrece muchos métodos para crear arreglos en forma eficiente:"
   ]
  },
  {
   "cell_type": "code",
   "execution_count": 12,
   "metadata": {},
   "outputs": [
    {
     "name": "stdout",
     "output_type": "stream",
     "text": [
      "[0 0 0 0 0 0 0 0 0 0 0 0 0 0 0 0 0 0 0 0]\n"
     ]
    }
   ],
   "source": [
    "# Crear un arreglo de tamaño 20, lleno de ceros\n",
    "ceros = np.zeros(20, dtype=int)\n",
    "print(ceros)"
   ]
  },
  {
   "cell_type": "code",
   "execution_count": 13,
   "metadata": {},
   "outputs": [
    {
     "name": "stdout",
     "output_type": "stream",
     "text": [
      "[[1. 1. 1. 1. 1.]\n",
      " [1. 1. 1. 1. 1.]\n",
      " [1. 1. 1. 1. 1.]]\n"
     ]
    }
   ],
   "source": [
    "# Crear una matriz 3x5, llena de unos\n",
    "m0 = np.ones((3, 5), dtype=float)\n",
    "print(m0)"
   ]
  },
  {
   "cell_type": "code",
   "execution_count": 14,
   "metadata": {},
   "outputs": [
    {
     "name": "stdout",
     "output_type": "stream",
     "text": [
      "[[[3.14 3.14]\n",
      "  [3.14 3.14]]\n",
      "\n",
      " [[3.14 3.14]\n",
      "  [3.14 3.14]]]\n"
     ]
    }
   ],
   "source": [
    "# Crear una matriz 2x2x2, llena de 3.14\n",
    "pi2 = np.full((2, 2, 2), 3.14)\n",
    "print(pi2)"
   ]
  },
  {
   "cell_type": "code",
   "execution_count": 17,
   "metadata": {},
   "outputs": [
    {
     "name": "stdout",
     "output_type": "stream",
     "text": [
      "[0.         0.07692308 0.15384615 0.23076923 0.30769231 0.38461538\n",
      " 0.46153846 0.53846154 0.61538462 0.69230769 0.76923077 0.84615385\n",
      " 0.92307692 1.        ]\n"
     ]
    }
   ],
   "source": [
    "# Crear un arreglo de 15 números igualmente espaciados entre 0 y 1\n",
    "l1 = np.linspace(0, 1, 14)\n",
    "print(l1)"
   ]
  },
  {
   "cell_type": "code",
   "execution_count": 21,
   "metadata": {},
   "outputs": [
    {
     "name": "stdout",
     "output_type": "stream",
     "text": [
      "[[0.56130379 0.4981039  0.07415283]\n",
      " [0.57689876 0.67331888 0.14264795]\n",
      " [0.30887329 0.53348879 0.86152364]\n",
      " [0.17020763 0.69518455 0.05395963]]\n"
     ]
    }
   ],
   "source": [
    "# Crear una matriz 3x4 con números aleatorios uniformemente distribuidos, entre 0 y 1:\n",
    "m2 = np.random.random((4, 3))\n",
    "print(m2)"
   ]
  },
  {
   "cell_type": "code",
   "execution_count": 20,
   "metadata": {},
   "outputs": [
    {
     "name": "stdout",
     "output_type": "stream",
     "text": [
      "[-1.43302065  1.24318307  1.53555446  0.09766475  0.05644614  0.7439005\n",
      "  0.14334498  2.76362671 -0.64020473 -0.56708276  0.08058753  0.45103499\n",
      " -1.28162583  1.58163916  2.07594141]\n"
     ]
    }
   ],
   "source": [
    "# Crear un arreglo de 15 valores normalmente distribuido, con media 0 y desviación estándar 1\n",
    "na = np.random.normal(0, 1, 15)\n",
    "print(na)"
   ]
  },
  {
   "cell_type": "code",
   "execution_count": 6,
   "metadata": {},
   "outputs": [
    {
     "name": "stdout",
     "output_type": "stream",
     "text": [
      "[[66 39 91]\n",
      " [61 92 63]\n",
      " [20 68 81]\n",
      " [65 37 19]\n",
      " [76 98 13]\n",
      " [80 40 15]\n",
      " [95 21 11]]\n"
     ]
    }
   ],
   "source": [
    "# Crear una matriz de 7x3 valores aleatorios entre 0 y 100\n",
    "m3 = np.random.randint(0, 100, (7, 3))\n",
    "print(m3)"
   ]
  },
  {
   "cell_type": "code",
   "execution_count": 23,
   "metadata": {},
   "outputs": [
    {
     "name": "stdout",
     "output_type": "stream",
     "text": [
      "[[1. 0. 0. 0. 0.]\n",
      " [0. 1. 0. 0. 0.]\n",
      " [0. 0. 1. 0. 0.]\n",
      " [0. 0. 0. 1. 0.]\n",
      " [0. 0. 0. 0. 1.]]\n"
     ]
    }
   ],
   "source": [
    "# Crear una matriz identidad de 5x5\n",
    "i1 = np.eye(5)\n",
    "print(i1)"
   ]
  },
  {
   "cell_type": "markdown",
   "metadata": {},
   "source": [
    "Un arreglo Numpy tiene un conjunto de atributos que resultan útiles:"
   ]
  },
  {
   "cell_type": "code",
   "execution_count": 24,
   "metadata": {},
   "outputs": [
    {
     "name": "stdout",
     "output_type": "stream",
     "text": [
      "m3 ndim:  2\n",
      "m3 shape: (7, 3)\n",
      "m3 size:  21\n",
      "m3.dtype: int64\n",
      "m3.itemsize: 8 bytes\n",
      "m3.nbytes: 168 bytes\n"
     ]
    }
   ],
   "source": [
    "print(\"m3 ndim: \", m3.ndim)\n",
    "print(\"m3 shape:\", m3.shape)\n",
    "print(\"m3 size: \", m3.size)\n",
    "print(\"m3.dtype:\", m3.dtype)\n",
    "print(\"m3.itemsize:\", m3.itemsize, \"bytes\")\n",
    "print(\"m3.nbytes:\", m3.nbytes, \"bytes\")"
   ]
  },
  {
   "cell_type": "markdown",
   "metadata": {},
   "source": [
    "Los elementos de un arreglos se acceden de la misma forma que en una lista; `[0]` para el primero, `[-1]`para el último, `[4]`para el 5to. "
   ]
  },
  {
   "cell_type": "code",
   "execution_count": 25,
   "metadata": {},
   "outputs": [
    {
     "name": "stdout",
     "output_type": "stream",
     "text": [
      "[0.         0.78539816 1.57079633 2.35619449 3.14159265]\n"
     ]
    }
   ],
   "source": [
    "a = np.linspace(0, np.pi, 5)\n",
    "print(a)"
   ]
  },
  {
   "cell_type": "code",
   "execution_count": 26,
   "metadata": {},
   "outputs": [
    {
     "name": "stdout",
     "output_type": "stream",
     "text": [
      "a[0] = 0.0\n",
      "a[-1] = 3.141592653589793\n",
      "a[4] = 3.141592653589793\n"
     ]
    }
   ],
   "source": [
    "print(f\"a[0] = {a[0]}\")\n",
    "print(f\"a[-1] = {a[-1]}\")\n",
    "print(f\"a[4] = {a[4]}\")"
   ]
  },
  {
   "cell_type": "code",
   "execution_count": 27,
   "metadata": {},
   "outputs": [
    {
     "name": "stdout",
     "output_type": "stream",
     "text": [
      "[[ 1  2  4 10]\n",
      " [ 7  6  8  8]\n",
      " [ 1  6  7  7]]\n"
     ]
    }
   ],
   "source": [
    "x = np.array([[1, 2, 4, 10], [7, 6, 8, 8], [1, 6, 7, 7]])\n",
    "print(x)"
   ]
  },
  {
   "cell_type": "code",
   "execution_count": 28,
   "metadata": {},
   "outputs": [
    {
     "name": "stdout",
     "output_type": "stream",
     "text": [
      "x[0,0] = 1\n",
      "x[2,0] = 1\n",
      "x[2,-1] = 7\n"
     ]
    }
   ],
   "source": [
    "print(f\"x[0,0] = {x[0, 0]}\")\n",
    "print(f\"x[2,0] = {x[2, 0]}\")\n",
    "print(f\"x[2,-1] = {x[2, -1]}\")"
   ]
  },
  {
   "cell_type": "markdown",
   "metadata": {},
   "source": [
    "Numpy también ofrece una gran cantidad de operaciones, optimizadas para trabajar con arreglos."
   ]
  },
  {
   "cell_type": "code",
   "execution_count": 29,
   "metadata": {},
   "outputs": [
    {
     "name": "stdout",
     "output_type": "stream",
     "text": [
      "sin(a) = [0.00000000e+00 7.07106781e-01 1.00000000e+00 7.07106781e-01\n",
      " 1.22464680e-16]\n",
      "cos(a) = [ 1.00000000e+00  7.07106781e-01  6.12323400e-17 -7.07106781e-01\n",
      " -1.00000000e+00]\n",
      "tan(a) = [ 0.00000000e+00  1.00000000e+00  1.63312394e+16 -1.00000000e+00\n",
      " -1.22464680e-16]\n"
     ]
    }
   ],
   "source": [
    "# Trigonométricas\n",
    "print(f\"sin(a) = {np.sin(a)}\")\n",
    "print(f\"cos(a) = {np.cos(a)}\")\n",
    "print(f\"tan(a) = {np.tan(a)}\")"
   ]
  },
  {
   "cell_type": "code",
   "execution_count": 30,
   "metadata": {},
   "outputs": [
    {
     "name": "stdout",
     "output_type": "stream",
     "text": [
      "e^x = [[2.71828183e+00 7.38905610e+00 5.45981500e+01 2.20264658e+04]\n",
      " [1.09663316e+03 4.03428793e+02 2.98095799e+03 2.98095799e+03]\n",
      " [2.71828183e+00 4.03428793e+02 1.09663316e+03 1.09663316e+03]]\n",
      "2^x = [[   2.    4.   16. 1024.]\n",
      " [ 128.   64.  256.  256.]\n",
      " [   2.   64.  128.  128.]]\n",
      "3^x = [[    3     9    81 59049]\n",
      " [ 2187   729  6561  6561]\n",
      " [    3   729  2187  2187]]\n"
     ]
    }
   ],
   "source": [
    "# Exponencial y Logaritmos\n",
    "print(\"e^x =\", np.exp(x))\n",
    "print(\"2^x =\", np.exp2(x))\n",
    "print(\"3^x =\", np.power(3, x))"
   ]
  },
  {
   "cell_type": "code",
   "execution_count": 31,
   "metadata": {},
   "outputs": [
    {
     "name": "stdout",
     "output_type": "stream",
     "text": [
      "ln(x) = [[0.         0.69314718 1.38629436 2.30258509]\n",
      " [1.94591015 1.79175947 2.07944154 2.07944154]\n",
      " [0.         1.79175947 1.94591015 1.94591015]]\n",
      "log2(x) = [[0.         1.         2.         3.32192809]\n",
      " [2.80735492 2.5849625  3.         3.        ]\n",
      " [0.         2.5849625  2.80735492 2.80735492]]\n",
      "log10(x) = [[0.         0.30103    0.60205999 1.        ]\n",
      " [0.84509804 0.77815125 0.90308999 0.90308999]\n",
      " [0.         0.77815125 0.84509804 0.84509804]]\n"
     ]
    }
   ],
   "source": [
    "print(\"ln(x) =\", np.log(x))\n",
    "print(\"log2(x) =\", np.log2(x))\n",
    "print(\"log10(x) =\", np.log10(x))"
   ]
  },
  {
   "cell_type": "markdown",
   "metadata": {},
   "source": [
    "## Operaciones con matrices"
   ]
  },
  {
   "cell_type": "code",
   "execution_count": 32,
   "metadata": {},
   "outputs": [
    {
     "name": "stdout",
     "output_type": "stream",
     "text": [
      "x =\n",
      " [[1 2]\n",
      " [4 5]]\n",
      "y =\n",
      " [[ 7  8]\n",
      " [ 9 10]]\n"
     ]
    }
   ],
   "source": [
    "# Crear dos matrices con valores iniciales\n",
    "x = np.array([[1, 2], [4, 5]])\n",
    "y = np.array([[7, 8], [9, 10]])\n",
    "print(\"x =\\n\", x)\n",
    "print(\"y =\\n\", y)"
   ]
  },
  {
   "cell_type": "code",
   "execution_count": 33,
   "metadata": {},
   "outputs": [
    {
     "name": "stdout",
     "output_type": "stream",
     "text": [
      "x + y =\n",
      " [[ 8 10]\n",
      " [13 15]]\n"
     ]
    }
   ],
   "source": [
    "# Suma los elementos de ambas matrices\n",
    "print(\"x + y =\\n\", x + y)"
   ]
  },
  {
   "cell_type": "code",
   "execution_count": 34,
   "metadata": {},
   "outputs": [
    {
     "name": "stdout",
     "output_type": "stream",
     "text": [
      "x * y =\n",
      " [[ 7 16]\n",
      " [36 50]]\n"
     ]
    }
   ],
   "source": [
    "# Multiplica los elementos de ambas matrices (no multiplica matrices)\n",
    "print(\"x * y =\\n\", x * y)"
   ]
  },
  {
   "cell_type": "code",
   "execution_count": 35,
   "metadata": {},
   "outputs": [
    {
     "name": "stdout",
     "output_type": "stream",
     "text": [
      "x @ y =\n",
      " [[25 28]\n",
      " [73 82]]\n"
     ]
    }
   ],
   "source": [
    "# Producto de matrices, es equivalente a np.dot(x, y) \n",
    "print(\"x @ y =\\n\", x @ y)"
   ]
  },
  {
   "cell_type": "code",
   "execution_count": 36,
   "metadata": {},
   "outputs": [
    {
     "name": "stdout",
     "output_type": "stream",
     "text": [
      "suma de todos los elementos de x =\n",
      " 12\n"
     ]
    }
   ],
   "source": [
    "print(\"suma de todos los elementos de x =\\n\", np.sum(x))"
   ]
  },
  {
   "cell_type": "code",
   "execution_count": 37,
   "metadata": {},
   "outputs": [
    {
     "name": "stdout",
     "output_type": "stream",
     "text": [
      "suma por columnas de y =\n",
      " [16 18]\n"
     ]
    }
   ],
   "source": [
    "print(\"suma por columnas de y =\\n\", np.sum(y, axis=0))"
   ]
  },
  {
   "cell_type": "code",
   "execution_count": 38,
   "metadata": {},
   "outputs": [
    {
     "name": "stdout",
     "output_type": "stream",
     "text": [
      "suma por filas de y =\n",
      " [15 19]\n"
     ]
    }
   ],
   "source": [
    "print(\"suma por filas de y =\\n\", np.sum(y, axis=1))"
   ]
  },
  {
   "cell_type": "code",
   "execution_count": 39,
   "metadata": {},
   "outputs": [
    {
     "name": "stdout",
     "output_type": "stream",
     "text": [
      "matriz traspuesta de x =\n",
      " [[1 4]\n",
      " [2 5]]\n"
     ]
    }
   ],
   "source": [
    "print(\"matriz traspuesta de x =\\n\", x.T)"
   ]
  },
  {
   "cell_type": "code",
   "execution_count": 9,
   "metadata": {},
   "outputs": [
    {
     "name": "stdout",
     "output_type": "stream",
     "text": [
      "a =\n",
      " [[0. 0.]\n",
      " [5. 0.]\n",
      " [2. 1.]]\n",
      "b =\n",
      " [[0. 7.]\n",
      " [2. 9.]\n",
      " [1. 0.]]\n"
     ]
    }
   ],
   "source": [
    "# Crear dos matrices 3x2 con números aleatorios\n",
    "a = np.floor( 10 * np.random.random((3,2)) )\n",
    "b = np.floor( 10 * np.random.random((3,2)) )\n",
    "print(\"a =\\n\", a)\n",
    "print(\"b =\\n\", b)"
   ]
  },
  {
   "cell_type": "code",
   "execution_count": 41,
   "metadata": {},
   "outputs": [
    {
     "data": {
      "text/plain": [
       "array([[5., 0.],\n",
       "       [9., 0.],\n",
       "       [5., 5.],\n",
       "       [7., 7.],\n",
       "       [6., 3.],\n",
       "       [8., 4.]])"
      ]
     },
     "execution_count": 41,
     "metadata": {},
     "output_type": "execute_result"
    }
   ],
   "source": [
    "# Apilar en forma vertical\n",
    "np.vstack((a,b))"
   ]
  },
  {
   "cell_type": "code",
   "execution_count": 10,
   "metadata": {},
   "outputs": [
    {
     "data": {
      "text/plain": [
       "array([[0., 0., 0., 7.],\n",
       "       [5., 0., 2., 9.],\n",
       "       [2., 1., 1., 0.]])"
      ]
     },
     "execution_count": 10,
     "metadata": {},
     "output_type": "execute_result"
    }
   ],
   "source": [
    "# Apilar en forma horizontal\n",
    "np.hstack((a,b))"
   ]
  },
  {
   "cell_type": "markdown",
   "metadata": {},
   "source": [
    "# Manipulación de imágenes con Numpy\n",
    "\n",
    "![Tiburon](Tiburon.jpg)"
   ]
  },
  {
   "cell_type": "code",
   "execution_count": 19,
   "metadata": {},
   "outputs": [],
   "source": [
    "# Manipulación de imágenes\n",
    "from PIL import Image"
   ]
  },
  {
   "cell_type": "code",
   "execution_count": 20,
   "metadata": {},
   "outputs": [],
   "source": [
    "# Se lee la imagen y se convierte en arreglo\n",
    "tiburon = np.array(Image.open('Tiburon.jpg'))"
   ]
  },
  {
   "cell_type": "code",
   "execution_count": 16,
   "metadata": {},
   "outputs": [
    {
     "name": "stdout",
     "output_type": "stream",
     "text": [
      "3\n",
      "(413, 770, 3)\n",
      "954030\n"
     ]
    },
    {
     "data": {
      "text/plain": [
       "array([[[ 49, 104, 134],\n",
       "        [ 46, 101, 131],\n",
       "        [ 46, 101, 131],\n",
       "        ...,\n",
       "        [136, 171, 211],\n",
       "        [126, 157, 185],\n",
       "        [127, 158, 186]],\n",
       "\n",
       "       [[ 53, 109, 136],\n",
       "        [ 49, 104, 134],\n",
       "        [ 48, 103, 133],\n",
       "        ...,\n",
       "        [112, 151, 190],\n",
       "        [117, 152, 180],\n",
       "        [124, 159, 187]],\n",
       "\n",
       "       [[ 60, 117, 144],\n",
       "        [ 55, 112, 139],\n",
       "        [ 51, 108, 135],\n",
       "        ...,\n",
       "        [ 75, 121, 157],\n",
       "        [ 88, 132, 161],\n",
       "        [102, 146, 175]],\n",
       "\n",
       "       ...,\n",
       "\n",
       "       [[ 16,  55,  54],\n",
       "        [  2,  41,  40],\n",
       "        [  0,  36,  36],\n",
       "        ...,\n",
       "        [  0,  71,  83],\n",
       "        [  0,  68,  81],\n",
       "        [  6,  74,  87]],\n",
       "\n",
       "       [[ 18,  57,  56],\n",
       "        [  3,  42,  41],\n",
       "        [  0,  38,  37],\n",
       "        ...,\n",
       "        [  0,  71,  85],\n",
       "        [  1,  69,  80],\n",
       "        [  7,  75,  86]],\n",
       "\n",
       "       [[ 17,  56,  53],\n",
       "        [  2,  41,  38],\n",
       "        [  0,  37,  34],\n",
       "        ...,\n",
       "        [  0,  70,  85],\n",
       "        [  2,  68,  80],\n",
       "        [  8,  74,  86]]], dtype=uint8)"
      ]
     },
     "execution_count": 16,
     "metadata": {},
     "output_type": "execute_result"
    }
   ],
   "source": [
    "print(tiburon.ndim)\n",
    "print(tiburon.shape)\n",
    "print(tiburon.size)\n",
    "tiburon"
   ]
  },
  {
   "cell_type": "code",
   "execution_count": 21,
   "metadata": {},
   "outputs": [
    {
     "name": "stdout",
     "output_type": "stream",
     "text": [
      "[ 48 104 139]\n"
     ]
    }
   ],
   "source": [
    "print(tiburon[50,80])"
   ]
  },
  {
   "cell_type": "code",
   "execution_count": null,
   "metadata": {},
   "outputs": [],
   "source": []
  }
 ],
 "metadata": {
  "kernelspec": {
   "display_name": "Python 3",
   "language": "python",
   "name": "python3"
  },
  "language_info": {
   "codemirror_mode": {
    "name": "ipython",
    "version": 3
   },
   "file_extension": ".py",
   "mimetype": "text/x-python",
   "name": "python",
   "nbconvert_exporter": "python",
   "pygments_lexer": "ipython3",
   "version": "3.8.8"
  }
 },
 "nbformat": 4,
 "nbformat_minor": 4
}
